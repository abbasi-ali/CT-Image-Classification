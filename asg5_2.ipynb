{
 "cells": [
  {
   "cell_type": "code",
   "execution_count": 80,
   "metadata": {
    "colab": {
     "base_uri": "https://localhost:8080/"
    },
    "id": "GgNgLcZunZWg",
    "outputId": "dd59fb4b-033f-4666-bcbb-87bf5c078be0"
   },
   "outputs": [
    {
     "name": "stdout",
     "output_type": "stream",
     "text": [
      "Drive already mounted at /content/drive; to attempt to forcibly remount, call drive.mount(\"/content/drive\", force_remount=True).\n"
     ]
    }
   ],
   "source": [
    "from google.colab import drive\n",
    "drive.mount('/content/drive')"
   ]
  },
  {
   "cell_type": "code",
   "execution_count": 81,
   "metadata": {
    "colab": {
     "base_uri": "https://localhost:8080/"
    },
    "id": "8xHKPlf2ML3D",
    "outputId": "64b9555b-1d1a-40cf-c887-ef902d14d2e9"
   },
   "outputs": [
    {
     "name": "stdout",
     "output_type": "stream",
     "text": [
      "Archive:  ./drive/MyDrive/xray.zip\n",
      "replace Data/test/COVID19/COVID19(460).jpg? [y]es, [n]o, [A]ll, [N]one, [r]ename: n\n",
      "replace Data/test/COVID19/COVID19(461).jpg? [y]es, [n]o, [A]ll, [N]one, [r]ename: "
     ]
    }
   ],
   "source": [
    "path= './drive/MyDrive/xray.zip'\n",
    "!unzip './drive/MyDrive/xray.zip'\n"
   ]
  },
  {
   "cell_type": "code",
   "execution_count": 147,
   "metadata": {
    "id": "-kOz54t2y5XS"
   },
   "outputs": [],
   "source": [
    "from tensorflow.keras.preprocessing.image import ImageDataGenerator\n",
    "from tensorflow.keras.optimizers import Adam\n",
    "from tensorflow.keras.optimizers import SGD\n",
    "from sklearn.model_selection import train_test_split\n",
    "from tensorflow.keras.preprocessing.image import img_to_array\n",
    "from tensorflow.keras.utils import to_categorical\n",
    "from imutils import paths\n",
    "import matplotlib.pyplot as plt\n",
    "import numpy as np\n",
    "import random\n",
    "import cv2\n",
    "import os\n",
    "from tensorflow.keras.models import Sequential\n",
    "from tensorflow.keras.layers import Conv2D\n",
    "from tensorflow.keras.layers import MaxPooling2D\n",
    "from tensorflow.keras.layers import Activation\n",
    "from tensorflow.keras.layers import Flatten\n",
    "from tensorflow.keras.layers import Dense\n",
    "from tensorflow.keras.layers import Dropout\n",
    "from tensorflow.keras import backend as K\n",
    "from tensorflow.keras import regularizers\n"
   ]
  },
  {
   "cell_type": "code",
   "execution_count": 148,
   "metadata": {
    "id": "3byINj77y6mg"
   },
   "outputs": [],
   "source": [
    "epochs = 10\n",
    "lr = 1e-2\n",
    "batch_size = 32\n",
    "seed = 42 "
   ]
  },
  {
   "cell_type": "code",
   "execution_count": 149,
   "metadata": {
    "colab": {
     "base_uri": "https://localhost:8080/"
    },
    "id": "EGq7-l_7M-cC",
    "outputId": "a760b7d5-032b-48d5-d3a9-456e5d806145"
   },
   "outputs": [
    {
     "name": "stdout",
     "output_type": "stream",
     "text": [
      
     ]
    }
   ],
   "source": [
    "\n",
    "\n",
    "train_data = []\n",
    "train_labels = []\n",
    "\n",
    "test_data = []\n",
    "test_labels = []\n",
    "\n",
    "train_dataset = './Data/train'\n",
    "test_dataset = './Data/test'\n",
    "\n",
    "\n",
    "train_paths = sorted(list(paths.list_images(train_dataset)))\n",
    "random.seed(seed)\n",
    "random.shuffle(train_paths)\n",
    "\n",
    "test_paths = sorted(list(paths.list_images(test_dataset)))\n",
    "random.seed(seed)\n",
    "random.shuffle(test_paths)\n",
    "np.random.seed(seed)\n",
    "\n",
    "print(train_paths)\n",
    "print(test_paths)"
   ]
  },
  {
   "cell_type": "code",
   "execution_count": 150,
   "metadata": {
    "id": "fqQCGvYWVNuT"
   },
   "outputs": [],
   "source": [
    "for img in train_paths:\n",
    "  image = cv2.imread(img)\n",
    "  image = cv2.cvtColor(image, cv2.COLOR_BGR2GRAY)\n",
    "  #image = np.stack((image,)*3, axis=-1)\n",
    "  image = cv2.resize(image, (80, 80))\n",
    "  image = img_to_array(image)\n",
    "  train_data.append(image)\n",
    "  label = img.split(os.path.sep)[-2]\n",
    "  \n",
    "  if label == \"COVID19\":\n",
    "    label = 0\n",
    "  elif label == \"NORMAL\":\n",
    "    label = 1\n",
    "  elif label == \"PNEUMONIA\":\n",
    "    label = 2\n",
    "\n",
    "  train_labels.append(label)"
   ]
  },
  {
   "cell_type": "code",
   "execution_count": 151,
   "metadata": {
    "id": "yM1fmUEtWxg-"
   },
   "outputs": [],
   "source": [
    "for img in test_paths:\n",
    "  image = cv2.imread(img)\n",
    "  image = cv2.cvtColor(image, cv2.COLOR_BGR2GRAY)\n",
    "  #image = np.stack((image,)*3, axis=-1)\n",
    "  image = cv2.resize(image, (80, 80))\n",
    "  image = img_to_array(image)\n",
    "  test_data.append(image)\n",
    "  label = img.split(os.path.sep)[-2]\n",
    "  \n",
    "  if label == \"COVID19\":\n",
    "    label = 0\n",
    "  elif label == \"NORMAL\":\n",
    "    label = 1\n",
    "  elif label == \"PNEUMONIA\":\n",
    "    label = 2\n",
    "\n",
    "  test_labels.append(label)"
   ]
  },
  {
   "cell_type": "code",
   "execution_count": 152,
   "metadata": {
    "colab": {
     "base_uri": "https://localhost:8080/"
    },
    "id": "r_8eZL1CbjCW",
    "outputId": "7a3c4313-5e0c-4e6b-8686-79436a9df409"
   },
   "outputs": [
    {
     "name": "stdout",
     "output_type": "stream",
     "text": [
      "[2, 2, 1, 2, 2, 2, 2, 2, 1, 2, 2, 2, 2, 2, 0, 2, 2, 2, 1, 0, 2, 2, 2, 2, 2, 2, 2, 2, 2, 2, 1, 2, 2, 2, 2, 1, 1, 2, 2, 2, 1, 0, 2, 2, 2, 2, 2, 2, 2, 1, 2, 1, 2, 2, 2, 2, 1, 1, 1, 0, 2, 2, 1, 1, 2, 1, 2, 0, 1, 0, 2, 1, 2, 1, 1, 2, 2, 0, 2, 2, 2, 2, 2, 2, 2, 2, 0, 0, 2, 2, 1, 2, 2, 0, 1, 2, 1, 1, 1, 1, 2, 1, 1, 2, 2, 1, 2, 1, 2, 0, 2, 0, 0, 2, 2, 2, 2, 2, 2, 2, 1, 0, 2, 2, 2, 2, 2, 2, 2, 2, 2, 2, 2, 2, 1, 2, 1, 2, 0, 2, 1, 2, 2, 2, 2, 2, 2, 2, 2, 2, 2, 1, 1, 2, 2, 2, 2, 1, 2, 2, 2, 0, 2, 2, 2, 2, 0, 2, 1, 1, 2, 2, 1, 2, 1, 0, 0, 2, 2, 1, 2, 1, 2, 2, 2, 1, 1, 2, 2, 2, 2, 1, 2, 2, 2, 1, 2, 1, 2, 2, 2, 2, 2, 0, 1, 2, 0, 2, 1, 2, 2, 0, 0, 2, 2, 1, 0, 2, 2, 2, 2, 2, 2, 2, 1, 2, 2, 2, 2, 2, 2, 1, 2, 2, 1, 2, 2, 2, 2, 2, 0, 2, 1, 2, 2, 2, 2, 2, 2, 2, 2, 2, 1, 2, 2, 0, 2, 2, 2, 0, 2, 2, 2, 1, 2, 1, 1, 2, 1, 2, 2, 2, 1, 2, 0, 2, 2, 2, 2, 2, 0, 2, 1, 2, 1, 1, 2, 2, 2, 1, 2, 2, 2, 2, 2, 2, 0, 2, 1, 2, 1, 0, 2, 1, 2, 0, 1, 1, 2, 0, 2, 2, 2, 2, 1, 2, 2, 2, 2, 2, 2, 1, 1, 2, 1, 1, 2, 2, 2, 2, 2, 1, 0, 1, 2, 0, 2, 2, 1, 1, 2, 2, 2, 0, 2, 2, 2, 2, 2, 2, 2, 2, 1, 2, 0, 1, 2, 1, 1, 2, 2, 2, 1, 0, 2, 2, 2, 0, 2, 2, 2, 2, 1, 2, 0, 2, 2, 2, 2, 2, 2, 2, 2, 1, 2, 2, 2, 0, 2, 2, 1, 1, 2, 2, 0, 2, 2, 1, 2, 0, 2, 2, 2, 2, 1, 0, 2, 1, 0, 0, 2, 2, 2, 2, 1, 2, 1, 2, 2, 2, 2, 2, 2, 1, 2, 2, 2, 1, 2, 2, 2, 2, 2, 2, 2, 0, 2, 0, 1, 2, 2, 0, 1, 2, 1, 2, 2, 2, 1, 2, 2, 2, 2, 2, 2, 2, 2, 1, 2, 2, 2, 2, 0, 1, 2, 2, 1, 2, 2, 1, 2, 2, 2, 2, 1, 2, 1, 2, 2, 2, 1, 1, 2, 2, 2, 1, 1, 0, 2, 2, 2, 2, 2, 2, 1, 2, 1, 2, 2, 2, 2, 2, 2, 1, 2, 2, 0, 2, 2, 2, 2, 1, 1, 1, 1, 1, 2, 2, 2, 1, 2, 2, 2, 2, 2, 2, 2, 2, 2, 1, 2, 1, 2, 2, 2, 1, 2, 2, 2, 2, 2, 1, 2, 0, 2, 2, 0, 1, 2, 2, 1, 2, 2, 1, 2, 1, 2, 0, 1, 2, 2, 1, 1, 1, 0, 2, 2, 1, 2, 1, 1, 2, 2, 2, 2, 2, 1, 2, 2, 2, 2, 2, 0, 0, 2, 2, 2, 0, 2, 0, 2, 2, 1, 1, 1, 2, 1, 2, 2, 1, 1, 2, 1, 2, 2, 2, 2, 2, 0, 2, 2, 2, 1, 0, 2, 2, 2, 1, 1, 1, 2, 0, 2, 2, 1, 2, 2, 1, 2, 2, 2, 2, 1, 1, 1, 2, 2, 2, 2, 0, 2, 1, 2, 1, 0, 1, 2, 2, 2, 1, 2, 2, 1, 1, 2, 1, 2, 2, 0, 2, 2, 2, 2, 2, 2, 0, 2, 1, 2, 2, 2, 2, 2, 2, 1, 1, 2, 2, 1, 2, 2, 2, 2, 2, 2, 1, 2, 2, 2, 2, 2, 1, 2, 2, 2, 2, 2, 2, 2, 1, 2, 2, 2, 0, 2, 2, 1, 2, 2, 2, 1, 2, 2, 1, 2, 2, 2, 2, 2, 0, 2, 1, 1, 1, 2, 2, 2, 0, 1, 2, 2, 2, 2, 1, 0, 2, 1, 2, 2, 2, 2, 2, 2, 2, 1, 2, 2, 2, 2, 2, 1, 1, 0, 2, 1, 1, 2, 2, 2, 2, 2, 2, 1, 1, 2, 2, 1, 2, 1, 2, 1, 2, 1, 2, 2, 2, 1, 2, 2, 2, 2, 2, 2, 2, 1, 2, 2, 2, 2, 2, 2, 2, 2, 2, 2, 2, 2, 1, 1, 2, 1, 2, 2, 2, 2, 2, 2, 2, 1, 2, 2, 0, 2, 2, 2, 1, 2, 2, 0, 1, 2, 2, 1, 2, 2, 1, 2, 2, 0, 2, 1, 1, 1, 2, 0, 2, 1, 2, 1, 1, 2, 2, 1, 1, 2, 2, 1, 2, 2, 2, 2, 1, 1, 2, 2, 2, 2, 1, 2, 2, 2, 1, 0, 1, 1, 2, 2, 1, 1, 1, 2, 2, 1, 2, 2, 1, 0, 2, 2, 2, 2, 1, 2, 2, 2, 1, 1, 0, 2, 2, 1, 2, 2, 2, 2, 0, 2, 1, 2, 0, 2, 2, 2, 2, 2, 2, 2, 2, 1, 1, 2, 1, 2, 1, 0, 0, 2, 2, 2, 2, 0, 0, 2, 2, 2, 2, 2, 2, 2, 2, 1, 1, 2, 1, 2, 1, 1, 1, 2, 2, 0, 2, 2, 2, 1, 2, 0, 2, 1, 2, 2, 2, 0, 2, 2, 2, 2, 1, 2, 2, 2, 2, 2, 1, 1, 1, 2, 0, 2, 1, 2, 2, 2, 2, 1, 2, 0, 2, 2, 2, 2, 0, 0, 2, 2, 2, 2, 2, 1, 2, 2, 1, 1, 1, 1, 1, 2, 2, 2, 1, 2, 2, 2, 2, 2, 2, 2, 0, 2, 0, 2, 2, 1, 2, 2, 2, 1, 1, 1, 2, 2, 0, 2, 1, 1, 1, 1, 1, 2, 0, 1, 2, 2, 1, 2, 2, 1, 1, 2, 2, 2, 2, 2, 2, 0, 2, 1, 2, 2, 2, 2, 2, 2, 1, 2, 2, 0, 0, 1, 2, 1, 2, 2, 2, 1, 2, 1, 2, 2, 1, 2, 1, 2, 2, 1, 1, 0, 2, 2, 2, 2, 2, 2, 1, 1, 2, 2, 2, 2, 1, 2, 2, 2, 2, 2, 2, 2, 0, 1, 2, 1, 1, 0, 2, 2, 0, 2, 1, 2, 2, 1, 2, 2, 2, 2, 2, 2, 1, 2, 2, 2, 2, 2, 1, 2, 1, 1, 2, 1, 2, 1, 2, 2, 1, 2, 2, 2, 1, 0, 2, 2, 0, 2, 2, 1, 2, 2, 2, 2, 2, 1, 2, 1, 2, 2, 0, 2, 1, 2, 2, 2, 2, 2, 2, 1, 0, 2, 2, 2, 2, 2, 2, 1, 2, 1, 1, 1, 0, 1, 2, 2, 1, 2, 2, 2, 2, 2, 2, 2, 2, 2, 2, 1, 2, 2, 2, 2, 2, 2, 1, 1, 2, 2, 2, 2, 2, 0, 2, 2, 2, 2, 2, 2, 1, 2, 2, 1, 1, 2, 1, 2, 2, 1, 2, 2, 2, 2, 1, 2, 1, 2, 2, 0, 1, 1, 2, 2, 2, 2, 1, 2, 1, 2, 2, 0, 2, 2, 2, 2, 1, 2, 1, 2, 2, 2, 1, 2, 2, 2, 1, 0, 2, 2, 2, 2, 2, 2, 1, 2, 0, 2, 2, 2, 2, 1, 0, 0, 2, 2, 1, 2, 1, 1, 2, 2, 2, 0, 1]\n"
     ]
    }
   ],
   "source": [
    "print(test_labels)"
   ]
  },
  {
   "cell_type": "code",
   "execution_count": 153,
   "metadata": {
    "colab": {
     "base_uri": "https://localhost:8080/",
     "height": 162
    },
    "id": "IpxiiBuRbmNG",
    "outputId": "85baadb1-9fd0-4029-b3b3-fbb3707164bd"
   },
   "outputs": [
    {
     "data": {
      "image/png": "[encoded data removed]",
      "text/plain": [
       "<Figure size 432x288 with 3 Axes>"
      ]
     },
     "metadata": {
      "needs_background": "light",
      "tags": []
     },
     "output_type": "display_data"
    }
   ],
   "source": [
    "fig, (ax1, ax2, ax3) = plt.subplots(1, 3)\n",
    "\n",
    "image = np.stack((test_data[test_labels.index(0)],)*3, axis=2).squeeze() \n",
    "image = image.astype('uint8') \n",
    "ax1.imshow(image)\n",
    "ax1.set_title('COVID19')\n",
    "\n",
    "image = np.stack((test_data[test_labels.index(1)],)*3, axis=2).squeeze() \n",
    "image = image.astype('uint8') \n",
    "ax2.imshow(image)\n",
    "ax2.set_title('NORMAL')\n",
    "\n",
    "image = np.stack((test_data[test_labels.index(2)],)*3, axis=2).squeeze() \n",
    "image = image.astype('uint8') \n",
    "ax3.imshow(image)\n",
    "ax3.set_title('PNEUMONIA')\n",
    "\n",
    "plt.show()"
   ]
  },
  {
   "cell_type": "code",
   "execution_count": 154,
   "metadata": {
    "colab": {
     "base_uri": "https://localhost:8080/",
     "height": 355
    },
    "id": "X3hbEmyvio88",
    "outputId": "8b5f5781-4ec0-498e-8561-c4e6a33b6033"
   },
   "outputs": [
    {
     "name": "stdout",
     "output_type": "stream",
     "text": [
      "[0 1 2] [ 460 1266 3418]\n"
     ]
    },
    {
     "data": {
      "image/png": "[encoded data removed]",
      "text/plain": [
       "<Figure size 432x288 with 1 Axes>"
      ]
     },
     "metadata": {
      "needs_background": "light",
      "tags": []
     },
     "output_type": "display_data"
    }
   ],
   "source": [
    "uniques, cnts = np.unique(train_labels, return_counts=True)\n",
    "print(uniques, cnts)\n",
    "\n",
    "fig = plt.figure()\n",
    "ax = fig.add_axes([0,0,1,1])\n",
    "ills = ['COVID19', 'NORMAL', 'PNEUMONIA']\n",
    "ax.bar(ills, cnts)\n",
    "plt.show()"
   ]
  },
  {
   "cell_type": "code",
   "execution_count": 155,
   "metadata": {
    "id": "qmm7rzQz7jVa"
   },
   "outputs": [],
   "source": [
    "def recall_m(y_true, y_pred):\n",
    "    true_positives = K.sum(K.round(K.clip(y_true * y_pred, 0, 1)))\n",
    "    possible_positives = K.sum(K.round(K.clip(y_true, 0, 1)))\n",
    "    recall = true_positives / (possible_positives + K.epsilon())\n",
    "    return recall\n",
    "\n",
    "def precision_m(y_true, y_pred):\n",
    "    true_positives = K.sum(K.round(K.clip(y_true * y_pred, 0, 1)))\n",
    "    predicted_positives = K.sum(K.round(K.clip(y_pred, 0, 1)))\n",
    "    precision = true_positives / (predicted_positives + K.epsilon())\n",
    "    return precision\n",
    "\n",
    "def f1_m(y_true, y_pred):\n",
    "    precision = precision_m(y_true, y_pred)\n",
    "    recall = recall_m(y_true, y_pred)\n",
    "    return 2*((precision*recall)/(precision+recall+K.epsilon()))"
   ]
  },
  {
   "cell_type": "code",
   "execution_count": 156,
   "metadata": {
    "id": "-TBzq0pi1K_n"
   },
   "outputs": [],
   "source": [
    "train_labels_cat = to_categorical(train_labels, num_classes=3)\n",
    "test_labels_cat = to_categorical(test_labels, num_classes=3)\n",
    "\n",
    "train_data_np = np.array(train_data, dtype='float') / 255.0\n",
    "train_labels_cat = np.array(train_labels_cat)\n",
    "\n",
    "test_data_np = np.array(test_data, dtype='float') / 255.0\n",
    "test_labels_cat = np.array(test_labels_cat)\n",
    "\n"
   ]
  },
  {
   "cell_type": "code",
   "execution_count": 157,
   "metadata": {
    "id": "jCj-7sqKysD-"
   },
   "outputs": [],
   "source": [
    "model = Sequential()\n",
    "\n",
    "model.add(Flatten())\n",
    "model.add(Dense(500))\n",
    "model.add(Activation(\"relu\"))\n",
    "\n",
    "model.add(Dense(200))\n",
    "model.add(Activation(\"relu\"))\n",
    "\n",
    "model.add(Dense(3))\n",
    "model.add(Activation(\"softmax\"))"
   ]
  },
  {
   "cell_type": "code",
   "execution_count": 158,
   "metadata": {
    "id": "rVwUvJFw3khT"
   },
   "outputs": [],
   "source": [
    "aug = ImageDataGenerator()\n",
    "\n",
    "opt = SGD(lr=0.01)\n",
    "model.compile(loss=\"categorical_crossentropy\", optimizer=opt,\n",
    "\tmetrics=[\"accuracy\", f1_m,precision_m, recall_m])\n",
    "\n",
    "\n"
   ]
  },
  {
   "cell_type": "code",
   "execution_count": 159,
   "metadata": {
    "colab": {
     "base_uri": "https://localhost:8080/"
    },
    "id": "LNVjlYgX7u-g",
    "outputId": "7b79f861-dd79-4e74-ba96-57e1a723c3dc"
   },
   "outputs": [
    {
     "name": "stdout",
     "output_type": "stream",
     "text": [
      "Epoch 1/10\n",
      "160/160 [==============================] - 2s 7ms/step - loss: 0.7000 - accuracy: 0.6924 - f1_m: 0.6700 - precision_m: 0.7216 - recall_m: 0.6518 - val_loss: 0.4565 - val_accuracy: 0.8207 - val_f1_m: 0.8150 - val_precision_m: 0.8283 - val_recall_m: 0.8026\n",
      "Epoch 2/10\n",
      "160/160 [==============================] - 1s 5ms/step - loss: 0.4282 - accuracy: 0.8305 - f1_m: 0.8287 - precision_m: 0.8379 - recall_m: 0.8201 - val_loss: 0.3201 - val_accuracy: 0.8804 - val_f1_m: 0.8776 - val_precision_m: 0.8875 - val_recall_m: 0.8681\n",
      "Epoch 3/10\n",
      "160/160 [==============================] - 1s 5ms/step - loss: 0.3572 - accuracy: 0.8636 - f1_m: 0.8626 - precision_m: 0.8705 - recall_m: 0.8551 - val_loss: 0.2255 - val_accuracy: 0.9177 - val_f1_m: 0.9208 - val_precision_m: 0.9240 - val_recall_m: 0.9177\n",
      "Epoch 4/10\n",
      "160/160 [==============================] - 1s 5ms/step - loss: 0.3282 - accuracy: 0.8680 - f1_m: 0.8660 - precision_m: 0.8708 - recall_m: 0.8615 - val_loss: 0.2034 - val_accuracy: 0.9293 - val_f1_m: 0.9290 - val_precision_m: 0.9312 - val_recall_m: 0.9268\n",
      "Epoch 5/10\n",
      "160/160 [==============================] - 1s 5ms/step - loss: 0.3032 - accuracy: 0.8846 - f1_m: 0.8840 - precision_m: 0.8877 - recall_m: 0.8804 - val_loss: 0.2075 - val_accuracy: 0.9262 - val_f1_m: 0.9281 - val_precision_m: 0.9318 - val_recall_m: 0.9245\n",
      "Epoch 6/10\n",
      "160/160 [==============================] - 1s 5ms/step - loss: 0.2702 - accuracy: 0.8918 - f1_m: 0.8913 - precision_m: 0.8955 - recall_m: 0.8874 - val_loss: 0.1935 - val_accuracy: 0.9293 - val_f1_m: 0.9327 - val_precision_m: 0.9363 - val_recall_m: 0.9291\n",
      "Epoch 7/10\n",
      "160/160 [==============================] - 1s 5ms/step - loss: 0.2548 - accuracy: 0.9021 - f1_m: 0.9011 - precision_m: 0.9051 - recall_m: 0.8973 - val_loss: 0.3758 - val_accuracy: 0.8385 - val_f1_m: 0.8379 - val_precision_m: 0.8423 - val_recall_m: 0.8338\n",
      "Epoch 8/10\n",
      "160/160 [==============================] - 1s 5ms/step - loss: 0.2544 - accuracy: 0.9079 - f1_m: 0.9077 - precision_m: 0.9099 - recall_m: 0.9056 - val_loss: 0.2087 - val_accuracy: 0.9231 - val_f1_m: 0.9250 - val_precision_m: 0.9294 - val_recall_m: 0.9207\n",
      "Epoch 9/10\n",
      "160/160 [==============================] - 1s 5ms/step - loss: 0.2363 - accuracy: 0.9111 - f1_m: 0.9112 - precision_m: 0.9147 - recall_m: 0.9078 - val_loss: 0.1774 - val_accuracy: 0.9379 - val_f1_m: 0.9393 - val_precision_m: 0.9411 - val_recall_m: 0.9375\n",
      "Epoch 10/10\n",
      "160/160 [==============================] - 1s 5ms/step - loss: 0.2155 - accuracy: 0.9161 - f1_m: 0.9167 - precision_m: 0.9190 - recall_m: 0.9144 - val_loss: 0.1815 - val_accuracy: 0.9363 - val_f1_m: 0.9374 - val_precision_m: 0.9389 - val_recall_m: 0.9360\n"
     ]
    }
   ],
   "source": [
    "H = model.fit(x=aug.flow(train_data_np, train_labels_cat, batch_size=32),\n",
    "\tvalidation_data=(test_data_np, test_labels_cat), steps_per_epoch=len(train_labels) // 32,\n",
    "\tepochs=10, verbose=1)"
   ]
  },
  {
   "cell_type": "code",
   "execution_count": 160,
   "metadata": {
    "id": "s9bFAni_78T5"
   },
   "outputs": [],
   "source": [
    "model_tanh = Sequential()\n",
    "\n",
    "model_tanh.add(Flatten())\n",
    "model_tanh.add(Dense(500))\n",
    "model_tanh.add(Activation(\"tanh\"))\n",
    "\n",
    "model_tanh.add(Dense(200))\n",
    "model_tanh.add(Activation(\"tanh\"))\n",
    "\n",
    "model_tanh.add(Dense(3))\n",
    "model_tanh.add(Activation(\"softmax\"))"
   ]
  },
  {
   "cell_type": "code",
   "execution_count": 161,
   "metadata": {
    "colab": {
     "base_uri": "https://localhost:8080/"
    },
    "id": "Sm7RSNlYEmKs",
    "outputId": "6393f269-1a31-40c9-eb68-f1c531ac7253"
   },
   "outputs": [
    {
     "name": "stdout",
     "output_type": "stream",
     "text": [
      "Epoch 1/10\n",
      "160/160 [==============================] - 2s 6ms/step - loss: 0.7696 - accuracy: 0.7148 - f1_m: 0.6990 - precision_m: 0.7360 - recall_m: 0.6753 - val_loss: 0.2970 - val_accuracy: 0.9169 - val_f1_m: 0.9140 - val_precision_m: 0.9199 - val_recall_m: 0.9085\n",
      "Epoch 2/10\n",
      "160/160 [==============================] - 1s 5ms/step - loss: 0.4069 - accuracy: 0.8402 - f1_m: 0.8397 - precision_m: 0.8471 - recall_m: 0.8329 - val_loss: 0.2470 - val_accuracy: 0.9076 - val_f1_m: 0.9070 - val_precision_m: 0.9109 - val_recall_m: 0.9032\n",
      "Epoch 3/10\n",
      "160/160 [==============================] - 1s 5ms/step - loss: 0.3329 - accuracy: 0.8712 - f1_m: 0.8715 - precision_m: 0.8754 - recall_m: 0.8677 - val_loss: 0.2535 - val_accuracy: 0.9037 - val_f1_m: 0.9054 - val_precision_m: 0.9086 - val_recall_m: 0.9024\n",
      "Epoch 4/10\n",
      "160/160 [==============================] - 1s 5ms/step - loss: 0.2923 - accuracy: 0.8830 - f1_m: 0.8825 - precision_m: 0.8858 - recall_m: 0.8793 - val_loss: 0.2823 - val_accuracy: 0.8936 - val_f1_m: 0.8916 - val_precision_m: 0.8937 - val_recall_m: 0.8895\n",
      "Epoch 5/10\n",
      "160/160 [==============================] - 1s 5ms/step - loss: 0.2913 - accuracy: 0.8824 - f1_m: 0.8825 - precision_m: 0.8841 - recall_m: 0.8809 - val_loss: 0.2357 - val_accuracy: 0.9161 - val_f1_m: 0.9170 - val_precision_m: 0.9210 - val_recall_m: 0.9131\n",
      "Epoch 6/10\n",
      "160/160 [==============================] - 1s 5ms/step - loss: 0.2957 - accuracy: 0.8889 - f1_m: 0.8890 - precision_m: 0.8912 - recall_m: 0.8869 - val_loss: 0.1758 - val_accuracy: 0.9332 - val_f1_m: 0.9358 - val_precision_m: 0.9380 - val_recall_m: 0.9337\n",
      "Epoch 7/10\n",
      "160/160 [==============================] - 1s 5ms/step - loss: 0.2426 - accuracy: 0.9104 - f1_m: 0.9101 - precision_m: 0.9130 - recall_m: 0.9074 - val_loss: 0.2087 - val_accuracy: 0.9154 - val_f1_m: 0.9159 - val_precision_m: 0.9187 - val_recall_m: 0.9131\n",
      "Epoch 8/10\n",
      "160/160 [==============================] - 1s 5ms/step - loss: 0.2525 - accuracy: 0.9014 - f1_m: 0.9011 - precision_m: 0.9045 - recall_m: 0.8978 - val_loss: 0.2191 - val_accuracy: 0.9231 - val_f1_m: 0.9238 - val_precision_m: 0.9278 - val_recall_m: 0.9200\n",
      "Epoch 9/10\n",
      "160/160 [==============================] - 1s 5ms/step - loss: 0.2559 - accuracy: 0.9015 - f1_m: 0.9031 - precision_m: 0.9066 - recall_m: 0.8997 - val_loss: 0.1919 - val_accuracy: 0.9278 - val_f1_m: 0.9302 - val_precision_m: 0.9313 - val_recall_m: 0.9291\n",
      "Epoch 10/10\n",
      "160/160 [==============================] - 1s 5ms/step - loss: 0.2463 - accuracy: 0.9031 - f1_m: 0.9047 - precision_m: 0.9069 - recall_m: 0.9027 - val_loss: 0.1672 - val_accuracy: 0.9441 - val_f1_m: 0.9455 - val_precision_m: 0.9466 - val_recall_m: 0.9444\n"
     ]
    }
   ],
   "source": [
    "aug = ImageDataGenerator()\n",
    "\n",
    "opt = SGD(lr=0.01)\n",
    "model_tanh.compile(loss=\"categorical_crossentropy\", optimizer=opt,\n",
    "\tmetrics=[\"accuracy\", f1_m,precision_m, recall_m])\n",
    "\n",
    "H_tanh = model_tanh.fit(x=aug.flow(train_data_np, train_labels_cat, batch_size=32),\n",
    "\tvalidation_data=(test_data_np, test_labels_cat), steps_per_epoch=len(train_labels) // 32,\n",
    "\tepochs=10, verbose=1)\n"
   ]
  },
  {
   "cell_type": "markdown",
   "metadata": {
    "id": "_UjuupUQQKRO"
   },
   "source": [
    "relu yields better result than tanh since it usually covnerges several times faster than other activation functions. Moreover, relu is less computationally expensive since it requires simpler mathematical operations. From now on, I will use relu version."
   ]
  },
  {
   "cell_type": "markdown",
   "metadata": {
    "id": "dx4mSyAPfFS_"
   },
   "source": [
    "Relu may lead to the dying relu phenomenon since the neurons that produce negative values will enter the dead zone and their gradient will be 0. Therefore a large part of the network will be passive. The solution is using the leakyrelu instead the normal one."
   ]
  },
  {
   "cell_type": "markdown",
   "metadata": {
    "id": "053LnRZqd_Sd"
   },
   "source": [
    "momentum accumulates the gradient of the previous steps. This added term to the optimization problem, will be multiplied by the coefficient of momentum. Momentum helps to avoid the zig-zag path which noramlly would be taken by the simple gradient decent method, thus the model would converge faster.\n",
    "\n"
   ]
  },
  {
   "cell_type": "code",
   "execution_count": 162,
   "metadata": {
    "colab": {
     "base_uri": "https://localhost:8080/"
    },
    "id": "zeJS9OB-hsHW",
    "outputId": "5a94e2d2-bcf1-4f2a-dc22-360944ee00e4"
   },
   "outputs": [
    {
     "name": "stdout",
     "output_type": "stream",
     "text": [
      "Epoch 1/10\n",
      "160/160 [==============================] - 2s 6ms/step - loss: 0.6307 - accuracy: 0.7381 - f1_m: 0.7132 - precision_m: 0.7480 - recall_m: 0.6903 - val_loss: 0.2968 - val_accuracy: 0.8703 - val_f1_m: 0.8698 - val_precision_m: 0.8739 - val_recall_m: 0.8659\n",
      "Epoch 2/10\n",
      "160/160 [==============================] - 1s 5ms/step - loss: 0.3317 - accuracy: 0.8752 - f1_m: 0.8755 - precision_m: 0.8813 - recall_m: 0.8699 - val_loss: 0.2184 - val_accuracy: 0.9262 - val_f1_m: 0.9255 - val_precision_m: 0.9280 - val_recall_m: 0.9230\n",
      "Epoch 3/10\n",
      "160/160 [==============================] - 1s 5ms/step - loss: 0.2987 - accuracy: 0.8895 - f1_m: 0.8893 - precision_m: 0.8930 - recall_m: 0.8857 - val_loss: 0.2457 - val_accuracy: 0.9239 - val_f1_m: 0.9242 - val_precision_m: 0.9343 - val_recall_m: 0.9146\n",
      "Epoch 4/10\n",
      "160/160 [==============================] - 1s 5ms/step - loss: 0.3020 - accuracy: 0.8773 - f1_m: 0.8786 - precision_m: 0.8824 - recall_m: 0.8751 - val_loss: 0.1870 - val_accuracy: 0.9340 - val_f1_m: 0.9351 - val_precision_m: 0.9373 - val_recall_m: 0.9329\n",
      "Epoch 5/10\n",
      "160/160 [==============================] - 1s 6ms/step - loss: 0.2609 - accuracy: 0.9024 - f1_m: 0.9034 - precision_m: 0.9053 - recall_m: 0.9016 - val_loss: 0.1792 - val_accuracy: 0.9371 - val_f1_m: 0.9388 - val_precision_m: 0.9425 - val_recall_m: 0.9352\n",
      "Epoch 6/10\n",
      "160/160 [==============================] - 1s 5ms/step - loss: 0.2341 - accuracy: 0.9130 - f1_m: 0.9128 - precision_m: 0.9155 - recall_m: 0.9101 - val_loss: 0.2242 - val_accuracy: 0.9138 - val_f1_m: 0.9152 - val_precision_m: 0.9199 - val_recall_m: 0.9108\n",
      "Epoch 7/10\n",
      "160/160 [==============================] - 1s 5ms/step - loss: 0.2371 - accuracy: 0.9066 - f1_m: 0.9058 - precision_m: 0.9083 - recall_m: 0.9035 - val_loss: 0.1793 - val_accuracy: 0.9348 - val_f1_m: 0.9353 - val_precision_m: 0.9394 - val_recall_m: 0.9314\n",
      "Epoch 8/10\n",
      "160/160 [==============================] - 1s 5ms/step - loss: 0.2272 - accuracy: 0.9175 - f1_m: 0.9169 - precision_m: 0.9195 - recall_m: 0.9144 - val_loss: 0.1834 - val_accuracy: 0.9325 - val_f1_m: 0.9340 - val_precision_m: 0.9358 - val_recall_m: 0.9322\n",
      "Epoch 9/10\n",
      "160/160 [==============================] - 1s 5ms/step - loss: 0.2143 - accuracy: 0.9236 - f1_m: 0.9233 - precision_m: 0.9257 - recall_m: 0.9209 - val_loss: 0.1951 - val_accuracy: 0.9208 - val_f1_m: 0.9230 - val_precision_m: 0.9262 - val_recall_m: 0.9200\n",
      "Epoch 10/10\n",
      "160/160 [==============================] - 1s 5ms/step - loss: 0.2155 - accuracy: 0.9193 - f1_m: 0.9203 - precision_m: 0.9227 - recall_m: 0.9180 - val_loss: 0.1787 - val_accuracy: 0.9309 - val_f1_m: 0.9327 - val_precision_m: 0.9348 - val_recall_m: 0.9306\n"
     ]
    }
   ],
   "source": [
    "model = Sequential()\n",
    "\n",
    "model.add(Flatten())\n",
    "model.add(Dense(500))\n",
    "model.add(Activation(\"relu\"))\n",
    "\n",
    "model.add(Dense(200))\n",
    "model.add(Activation(\"relu\"))\n",
    "\n",
    "model.add(Dense(3))\n",
    "model.add(Activation(\"softmax\"))\n",
    "opt = SGD(lr=0.01, momentum=0.5)\n",
    "model.compile(loss=\"categorical_crossentropy\", optimizer=opt,\n",
    "\tmetrics=[\"accuracy\", f1_m,precision_m, recall_m])\n",
    "\n",
    "H = model.fit(x=aug.flow(train_data_np, train_labels_cat, batch_size=32),\n",
    "\tvalidation_data=(test_data_np, test_labels_cat), steps_per_epoch=len(train_labels) // 32,\n",
    "\tepochs=10, verbose=1)\n"
   ]
  },
  {
   "cell_type": "code",
   "execution_count": 163,
   "metadata": {
    "colab": {
     "base_uri": "https://localhost:8080/"
    },
    "id": "FrOwsV6ZiX1S",
    "outputId": "f559d33f-6ef4-4770-c725-a6f76622dad7"
   },
   "outputs": [
    {
     "name": "stdout",
     "output_type": "stream",
     "text": [
      "Epoch 1/10\n",
      "160/160 [==============================] - 2s 7ms/step - loss: 0.7710 - accuracy: 0.6939 - f1_m: 0.6807 - precision_m: 0.7034 - recall_m: 0.6681 - val_loss: 0.2408 - val_accuracy: 0.9014 - val_f1_m: 0.9042 - val_precision_m: 0.9085 - val_recall_m: 0.9002\n",
      "Epoch 2/10\n",
      "160/160 [==============================] - 1s 5ms/step - loss: 0.3348 - accuracy: 0.8736 - f1_m: 0.8741 - precision_m: 0.8790 - recall_m: 0.8694 - val_loss: 0.2041 - val_accuracy: 0.9286 - val_f1_m: 0.9284 - val_precision_m: 0.9317 - val_recall_m: 0.9253\n",
      "Epoch 3/10\n",
      "160/160 [==============================] - 1s 5ms/step - loss: 0.2773 - accuracy: 0.8997 - f1_m: 0.9000 - precision_m: 0.9027 - recall_m: 0.8974 - val_loss: 0.3689 - val_accuracy: 0.8486 - val_f1_m: 0.8511 - val_precision_m: 0.8655 - val_recall_m: 0.8377\n",
      "Epoch 4/10\n",
      "160/160 [==============================] - 1s 5ms/step - loss: 0.3132 - accuracy: 0.8755 - f1_m: 0.8747 - precision_m: 0.8793 - recall_m: 0.8703 - val_loss: 0.1920 - val_accuracy: 0.9332 - val_f1_m: 0.9336 - val_precision_m: 0.9358 - val_recall_m: 0.9314\n",
      "Epoch 5/10\n",
      "160/160 [==============================] - 1s 5ms/step - loss: 0.3084 - accuracy: 0.8803 - f1_m: 0.8798 - precision_m: 0.8870 - recall_m: 0.8734 - val_loss: 0.2253 - val_accuracy: 0.9161 - val_f1_m: 0.9185 - val_precision_m: 0.9217 - val_recall_m: 0.9154\n",
      "Epoch 6/10\n",
      "160/160 [==============================] - 1s 5ms/step - loss: 0.2630 - accuracy: 0.9058 - f1_m: 0.9059 - precision_m: 0.9101 - recall_m: 0.9019 - val_loss: 0.1709 - val_accuracy: 0.9379 - val_f1_m: 0.9393 - val_precision_m: 0.9412 - val_recall_m: 0.9375\n",
      "Epoch 7/10\n",
      "160/160 [==============================] - 1s 5ms/step - loss: 0.2290 - accuracy: 0.9115 - f1_m: 0.9126 - precision_m: 0.9158 - recall_m: 0.9095 - val_loss: 0.2644 - val_accuracy: 0.8975 - val_f1_m: 0.9002 - val_precision_m: 0.9050 - val_recall_m: 0.8956\n",
      "Epoch 8/10\n",
      "160/160 [==============================] - 1s 5ms/step - loss: 0.2332 - accuracy: 0.9111 - f1_m: 0.9115 - precision_m: 0.9144 - recall_m: 0.9086 - val_loss: 0.2329 - val_accuracy: 0.9053 - val_f1_m: 0.9047 - val_precision_m: 0.9087 - val_recall_m: 0.9009\n",
      "Epoch 9/10\n",
      "160/160 [==============================] - 1s 5ms/step - loss: 0.2372 - accuracy: 0.9077 - f1_m: 0.9062 - precision_m: 0.9098 - recall_m: 0.9027 - val_loss: 0.2087 - val_accuracy: 0.9224 - val_f1_m: 0.9249 - val_precision_m: 0.9285 - val_recall_m: 0.9215\n",
      "Epoch 10/10\n",
      "160/160 [==============================] - 1s 5ms/step - loss: 0.2138 - accuracy: 0.9185 - f1_m: 0.9184 - precision_m: 0.9207 - recall_m: 0.9163 - val_loss: 0.2752 - val_accuracy: 0.8998 - val_f1_m: 0.9020 - val_precision_m: 0.9079 - val_recall_m: 0.8963\n"
     ]
    }
   ],
   "source": [
    "model = Sequential()\n",
    "\n",
    "model.add(Flatten())\n",
    "model.add(Dense(500))\n",
    "model.add(Activation(\"relu\"))\n",
    "\n",
    "model.add(Dense(200))\n",
    "model.add(Activation(\"relu\"))\n",
    "\n",
    "model.add(Dense(3))\n",
    "model.add(Activation(\"softmax\"))\n",
    "opt = SGD(lr=0.01, momentum=0.9)\n",
    "model.compile(loss=\"categorical_crossentropy\", optimizer=opt,\n",
    "\tmetrics=[\"accuracy\", f1_m,precision_m, recall_m])\n",
    "\n",
    "H = model.fit(x=aug.flow(train_data_np, train_labels_cat, batch_size=32),\n",
    "\tvalidation_data=(test_data_np, test_labels_cat), steps_per_epoch=len(train_labels) // 32,\n",
    "\tepochs=10, verbose=1)"
   ]
  },
  {
   "cell_type": "code",
   "execution_count": 164,
   "metadata": {
    "colab": {
     "base_uri": "https://localhost:8080/"
    },
    "id": "mWkn-Iuiieov",
    "outputId": "96133f21-ceec-4a4b-96b1-17e52fb09f2a"
   },
   "outputs": [
    {
     "name": "stdout",
     "output_type": "stream",
     "text": [
      "Epoch 1/10\n",
      "160/160 [==============================] - 2s 6ms/step - loss: 1.1788 - accuracy: 0.6199 - f1_m: 0.5984 - precision_m: 0.6159 - recall_m: 0.5890 - val_loss: 0.9822 - val_accuracy: 0.8579 - val_f1_m: 0.8582 - val_precision_m: 0.8582 - val_recall_m: 0.8582\n",
      "Epoch 2/10\n",
      "160/160 [==============================] - 1s 5ms/step - loss: 0.7109 - accuracy: 0.7933 - f1_m: 0.7812 - precision_m: 0.7981 - recall_m: 0.7718 - val_loss: 0.8444 - val_accuracy: 0.6638 - val_f1_m: 0.6608 - val_precision_m: 0.6608 - val_recall_m: 0.6608\n",
      "Epoch 3/10\n",
      "160/160 [==============================] - 1s 5ms/step - loss: 0.8404 - accuracy: 0.6722 - f1_m: 0.6723 - precision_m: 0.6723 - recall_m: 0.6723 - val_loss: 0.8409 - val_accuracy: 0.6638 - val_f1_m: 0.6608 - val_precision_m: 0.6608 - val_recall_m: 0.6608\n",
      "Epoch 4/10\n",
      "160/160 [==============================] - 1s 5ms/step - loss: 0.8278 - accuracy: 0.6734 - f1_m: 0.6735 - precision_m: 0.6735 - recall_m: 0.6735 - val_loss: 0.8339 - val_accuracy: 0.6638 - val_f1_m: 0.6608 - val_precision_m: 0.6608 - val_recall_m: 0.6608\n",
      "Epoch 5/10\n",
      "160/160 [==============================] - 1s 5ms/step - loss: 0.8319 - accuracy: 0.6648 - f1_m: 0.6648 - precision_m: 0.6648 - recall_m: 0.6648 - val_loss: 0.8357 - val_accuracy: 0.6638 - val_f1_m: 0.6608 - val_precision_m: 0.6608 - val_recall_m: 0.6608\n",
      "Epoch 6/10\n",
      "160/160 [==============================] - 1s 5ms/step - loss: 0.8346 - accuracy: 0.6604 - f1_m: 0.6605 - precision_m: 0.6605 - recall_m: 0.6605 - val_loss: 0.8385 - val_accuracy: 0.6638 - val_f1_m: 0.6608 - val_precision_m: 0.6608 - val_recall_m: 0.6608\n",
      "Epoch 7/10\n",
      "160/160 [==============================] - 1s 5ms/step - loss: 0.8312 - accuracy: 0.6693 - f1_m: 0.6696 - precision_m: 0.6696 - recall_m: 0.6696 - val_loss: 0.8374 - val_accuracy: 0.6638 - val_f1_m: 0.6608 - val_precision_m: 0.6608 - val_recall_m: 0.6608\n",
      "Epoch 8/10\n",
      "160/160 [==============================] - 1s 5ms/step - loss: 0.8219 - accuracy: 0.6800 - f1_m: 0.6797 - precision_m: 0.6797 - recall_m: 0.6797 - val_loss: 0.8355 - val_accuracy: 0.6638 - val_f1_m: 0.6608 - val_precision_m: 0.6608 - val_recall_m: 0.6608\n",
      "Epoch 9/10\n",
      "160/160 [==============================] - 1s 5ms/step - loss: 0.8355 - accuracy: 0.6629 - f1_m: 0.6629 - precision_m: 0.6629 - recall_m: 0.6629 - val_loss: 0.8343 - val_accuracy: 0.6638 - val_f1_m: 0.6608 - val_precision_m: 0.6608 - val_recall_m: 0.6608\n",
      "Epoch 10/10\n",
      "160/160 [==============================] - 1s 5ms/step - loss: 0.8242 - accuracy: 0.6719 - f1_m: 0.6719 - precision_m: 0.6719 - recall_m: 0.6719 - val_loss: 0.8354 - val_accuracy: 0.6638 - val_f1_m: 0.6608 - val_precision_m: 0.6608 - val_recall_m: 0.6608\n"
     ]
    }
   ],
   "source": [
    "model = Sequential()\n",
    "\n",
    "model.add(Flatten())\n",
    "model.add(Dense(500))\n",
    "model.add(Activation(\"relu\"))\n",
    "\n",
    "model.add(Dense(200))\n",
    "model.add(Activation(\"relu\"))\n",
    "\n",
    "model.add(Dense(3))\n",
    "model.add(Activation(\"softmax\"))\n",
    "opt = SGD(lr=0.01, momentum=0.99)\n",
    "model.compile(loss=\"categorical_crossentropy\", optimizer=opt,\n",
    "\tmetrics=[\"accuracy\", f1_m,precision_m, recall_m])\n",
    "\n",
    "H = model.fit(x=aug.flow(train_data_np, train_labels_cat, batch_size=32),\n",
    "\tvalidation_data=(test_data_np, test_labels_cat), steps_per_epoch=len(train_labels) // 32,\n",
    "\tepochs=10, verbose=1)"
   ]
  },
  {
   "cell_type": "markdown",
   "metadata": {
    "id": "I0OEVvgcik6V"
   },
   "source": [
    "As you see, an extremly high value of momentum disrupts the convergence process since it puts too much weight to the direction of the first gradient which is not generally accurate. However a moderate use of this parameter can make the model to converge faster."
   ]
  },
  {
   "cell_type": "code",
   "execution_count": 165,
   "metadata": {
    "colab": {
     "base_uri": "https://localhost:8080/"
    },
    "id": "5dwGQwY6jEDZ",
    "outputId": "c2a8f453-09ad-4d26-9334-3d43da4efd51"
   },
   "outputs": [
    {
     "name": "stdout",
     "output_type": "stream",
     "text": [
      "Epoch 1/10\n",
      "160/160 [==============================] - 2s 7ms/step - loss: 1.4460 - accuracy: 0.7154 - f1_m: 0.7000 - precision_m: 0.7136 - recall_m: 0.6909 - val_loss: 0.2549 - val_accuracy: 0.9053 - val_f1_m: 0.9071 - val_precision_m: 0.9095 - val_recall_m: 0.9047\n",
      "Epoch 2/10\n",
      "160/160 [==============================] - 1s 6ms/step - loss: 0.3024 - accuracy: 0.8852 - f1_m: 0.8848 - precision_m: 0.8885 - recall_m: 0.8812 - val_loss: 0.2244 - val_accuracy: 0.9154 - val_f1_m: 0.9155 - val_precision_m: 0.9180 - val_recall_m: 0.9131\n",
      "Epoch 3/10\n",
      "160/160 [==============================] - 1s 6ms/step - loss: 0.3011 - accuracy: 0.8826 - f1_m: 0.8836 - precision_m: 0.8882 - recall_m: 0.8793 - val_loss: 0.2316 - val_accuracy: 0.9123 - val_f1_m: 0.9104 - val_precision_m: 0.9115 - val_recall_m: 0.9093\n",
      "Epoch 4/10\n",
      "160/160 [==============================] - 1s 6ms/step - loss: 0.2653 - accuracy: 0.9048 - f1_m: 0.9054 - precision_m: 0.9089 - recall_m: 0.9020 - val_loss: 0.3199 - val_accuracy: 0.8797 - val_f1_m: 0.8828 - val_precision_m: 0.8887 - val_recall_m: 0.8773\n",
      "Epoch 5/10\n",
      "160/160 [==============================] - 1s 6ms/step - loss: 0.2817 - accuracy: 0.8883 - f1_m: 0.8892 - precision_m: 0.8927 - recall_m: 0.8859 - val_loss: 0.2139 - val_accuracy: 0.9185 - val_f1_m: 0.9210 - val_precision_m: 0.9253 - val_recall_m: 0.9169\n",
      "Epoch 6/10\n",
      "160/160 [==============================] - 1s 7ms/step - loss: 0.2580 - accuracy: 0.8999 - f1_m: 0.9004 - precision_m: 0.9046 - recall_m: 0.8964 - val_loss: 0.2410 - val_accuracy: 0.9115 - val_f1_m: 0.9106 - val_precision_m: 0.9135 - val_recall_m: 0.9078\n",
      "Epoch 7/10\n",
      "160/160 [==============================] - 1s 6ms/step - loss: 0.2581 - accuracy: 0.8983 - f1_m: 0.8982 - precision_m: 0.9021 - recall_m: 0.8944 - val_loss: 0.1765 - val_accuracy: 0.9356 - val_f1_m: 0.9381 - val_precision_m: 0.9404 - val_recall_m: 0.9360\n",
      "Epoch 8/10\n",
      "160/160 [==============================] - 1s 6ms/step - loss: 0.2476 - accuracy: 0.9024 - f1_m: 0.9019 - precision_m: 0.9038 - recall_m: 0.9000 - val_loss: 0.1692 - val_accuracy: 0.9387 - val_f1_m: 0.9391 - val_precision_m: 0.9423 - val_recall_m: 0.9360\n",
      "Epoch 9/10\n",
      "160/160 [==============================] - 1s 5ms/step - loss: 0.2269 - accuracy: 0.9172 - f1_m: 0.9164 - precision_m: 0.9187 - recall_m: 0.9141 - val_loss: 0.1577 - val_accuracy: 0.9457 - val_f1_m: 0.9445 - val_precision_m: 0.9485 - val_recall_m: 0.9405\n",
      "Epoch 10/10\n",
      "160/160 [==============================] - 1s 5ms/step - loss: 0.2195 - accuracy: 0.9210 - f1_m: 0.9198 - precision_m: 0.9225 - recall_m: 0.9171 - val_loss: 0.1735 - val_accuracy: 0.9348 - val_f1_m: 0.9355 - val_precision_m: 0.9373 - val_recall_m: 0.9337\n"
     ]
    }
   ],
   "source": [
    "model = Sequential()\n",
    "\n",
    "model.add(Flatten())\n",
    "model.add(Dense(500))\n",
    "model.add(Activation(\"relu\"))\n",
    "\n",
    "model.add(Dense(200))\n",
    "model.add(Activation(\"relu\"))\n",
    "\n",
    "model.add(Dense(3))\n",
    "model.add(Activation(\"softmax\"))\n",
    "opt = Adam(lr=0.001)\n",
    "model.compile(loss=\"categorical_crossentropy\", optimizer=opt,\n",
    "\tmetrics=[\"accuracy\", f1_m,precision_m, recall_m])\n",
    "\n",
    "H = model.fit(x=aug.flow(train_data_np, train_labels_cat, batch_size=32),\n",
    "\tvalidation_data=(test_data_np, test_labels_cat), steps_per_epoch=len(train_labels) // 32,\n",
    "\tepochs=10, verbose=1)"
   ]
  },
  {
   "cell_type": "markdown",
   "metadata": {
    "id": "kmmYKJQJjvix"
   },
   "source": [
    "SGD provided higher accuracy and f1 score in comparison with Adam. Adam's f1 score did not go higher than 0.85 while in SGD's case, I obtained 0.92 score. "
   ]
  },
  {
   "cell_type": "code",
   "execution_count": 166,
   "metadata": {
    "colab": {
     "base_uri": "https://localhost:8080/"
    },
    "id": "6GUBeWkbkH8B",
    "outputId": "1e68a2da-729d-4a5e-ba13-17d187de13da"
   },
   "outputs": [
    {
     "name": "stdout",
     "output_type": "stream",
     "text": [
      "Epoch 1/20\n",
      "160/160 [==============================] - 2s 7ms/step - loss: 0.9884 - accuracy: 0.6917 - f1_m: 0.6920 - precision_m: 0.6975 - recall_m: 0.6871 - val_loss: 0.3266 - val_accuracy: 0.8750 - val_f1_m: 0.8771 - val_precision_m: 0.8817 - val_recall_m: 0.8727\n",
      "Epoch 2/20\n",
      "160/160 [==============================] - 1s 5ms/step - loss: 0.3147 - accuracy: 0.8832 - f1_m: 0.8827 - precision_m: 0.8877 - recall_m: 0.8778 - val_loss: 0.2353 - val_accuracy: 0.9107 - val_f1_m: 0.9103 - val_precision_m: 0.9113 - val_recall_m: 0.9093\n",
      "Epoch 3/20\n",
      "160/160 [==============================] - 1s 5ms/step - loss: 0.2853 - accuracy: 0.8902 - f1_m: 0.8900 - precision_m: 0.8932 - recall_m: 0.8870 - val_loss: 0.1952 - val_accuracy: 0.9286 - val_f1_m: 0.9281 - val_precision_m: 0.9310 - val_recall_m: 0.9253\n",
      "Epoch 4/20\n",
      "160/160 [==============================] - 1s 5ms/step - loss: 0.3213 - accuracy: 0.8767 - f1_m: 0.8760 - precision_m: 0.8793 - recall_m: 0.8728 - val_loss: 0.2033 - val_accuracy: 0.9239 - val_f1_m: 0.9245 - val_precision_m: 0.9285 - val_recall_m: 0.9207\n",
      "Epoch 5/20\n",
      "160/160 [==============================] - 1s 5ms/step - loss: 0.2744 - accuracy: 0.8916 - f1_m: 0.8923 - precision_m: 0.8960 - recall_m: 0.8887 - val_loss: 0.1715 - val_accuracy: 0.9387 - val_f1_m: 0.9388 - val_precision_m: 0.9425 - val_recall_m: 0.9352\n",
      "Epoch 6/20\n",
      "160/160 [==============================] - 1s 5ms/step - loss: 0.2211 - accuracy: 0.9146 - f1_m: 0.9147 - precision_m: 0.9172 - recall_m: 0.9123 - val_loss: 0.2513 - val_accuracy: 0.9022 - val_f1_m: 0.9032 - val_precision_m: 0.9063 - val_recall_m: 0.9002\n",
      "Epoch 7/20\n",
      "160/160 [==============================] - 1s 5ms/step - loss: 0.2188 - accuracy: 0.9230 - f1_m: 0.9220 - precision_m: 0.9243 - recall_m: 0.9198 - val_loss: 0.1729 - val_accuracy: 0.9387 - val_f1_m: 0.9406 - val_precision_m: 0.9439 - val_recall_m: 0.9375\n",
      "Epoch 8/20\n",
      "160/160 [==============================] - 1s 5ms/step - loss: 0.2184 - accuracy: 0.9136 - f1_m: 0.9135 - precision_m: 0.9158 - recall_m: 0.9112 - val_loss: 0.1730 - val_accuracy: 0.9394 - val_f1_m: 0.9397 - val_precision_m: 0.9411 - val_recall_m: 0.9383\n",
      "Epoch 9/20\n",
      "160/160 [==============================] - 1s 5ms/step - loss: 0.2309 - accuracy: 0.9117 - f1_m: 0.9118 - precision_m: 0.9141 - recall_m: 0.9096 - val_loss: 0.2387 - val_accuracy: 0.9061 - val_f1_m: 0.9058 - val_precision_m: 0.9070 - val_recall_m: 0.9047\n",
      "Epoch 10/20\n",
      "160/160 [==============================] - 1s 5ms/step - loss: 0.2363 - accuracy: 0.9143 - f1_m: 0.9154 - precision_m: 0.9195 - recall_m: 0.9114 - val_loss: 0.1820 - val_accuracy: 0.9371 - val_f1_m: 0.9386 - val_precision_m: 0.9405 - val_recall_m: 0.9367\n",
      "Epoch 11/20\n",
      "160/160 [==============================] - 1s 5ms/step - loss: 0.2198 - accuracy: 0.9154 - f1_m: 0.9145 - precision_m: 0.9180 - recall_m: 0.9111 - val_loss: 0.1697 - val_accuracy: 0.9340 - val_f1_m: 0.9347 - val_precision_m: 0.9365 - val_recall_m: 0.9329\n",
      "Epoch 12/20\n",
      "160/160 [==============================] - 1s 5ms/step - loss: 0.2026 - accuracy: 0.9237 - f1_m: 0.9234 - precision_m: 0.9248 - recall_m: 0.9219 - val_loss: 0.1521 - val_accuracy: 0.9425 - val_f1_m: 0.9443 - val_precision_m: 0.9450 - val_recall_m: 0.9436\n",
      "Epoch 13/20\n",
      "160/160 [==============================] - 1s 5ms/step - loss: 0.2122 - accuracy: 0.9241 - f1_m: 0.9237 - precision_m: 0.9265 - recall_m: 0.9209 - val_loss: 0.2444 - val_accuracy: 0.9138 - val_f1_m: 0.9154 - val_precision_m: 0.9193 - val_recall_m: 0.9116\n",
      "Epoch 14/20\n",
      "160/160 [==============================] - 1s 5ms/step - loss: 0.2237 - accuracy: 0.9176 - f1_m: 0.9183 - precision_m: 0.9202 - recall_m: 0.9164 - val_loss: 0.1750 - val_accuracy: 0.9387 - val_f1_m: 0.9394 - val_precision_m: 0.9397 - val_recall_m: 0.9390\n",
      "Epoch 15/20\n",
      "160/160 [==============================] - 1s 5ms/step - loss: 0.1828 - accuracy: 0.9332 - f1_m: 0.9330 - precision_m: 0.9350 - recall_m: 0.9310 - val_loss: 0.1655 - val_accuracy: 0.9418 - val_f1_m: 0.9428 - val_precision_m: 0.9435 - val_recall_m: 0.9421\n",
      "Epoch 16/20\n",
      "160/160 [==============================] - 1s 5ms/step - loss: 0.2011 - accuracy: 0.9246 - f1_m: 0.9245 - precision_m: 0.9266 - recall_m: 0.9223 - val_loss: 0.2187 - val_accuracy: 0.9262 - val_f1_m: 0.9258 - val_precision_m: 0.9287 - val_recall_m: 0.9230\n",
      "Epoch 17/20\n",
      "160/160 [==============================] - 1s 5ms/step - loss: 0.2053 - accuracy: 0.9210 - f1_m: 0.9212 - precision_m: 0.9234 - recall_m: 0.9190 - val_loss: 0.1689 - val_accuracy: 0.9371 - val_f1_m: 0.9370 - val_precision_m: 0.9389 - val_recall_m: 0.9352\n",
      "Epoch 18/20\n",
      "160/160 [==============================] - 1s 5ms/step - loss: 0.1897 - accuracy: 0.9245 - f1_m: 0.9243 - precision_m: 0.9255 - recall_m: 0.9232 - val_loss: 0.1753 - val_accuracy: 0.9379 - val_f1_m: 0.9386 - val_precision_m: 0.9396 - val_recall_m: 0.9375\n",
      "Epoch 19/20\n",
      "160/160 [==============================] - 1s 5ms/step - loss: 0.1891 - accuracy: 0.9332 - f1_m: 0.9321 - precision_m: 0.9339 - recall_m: 0.9303 - val_loss: 0.1529 - val_accuracy: 0.9464 - val_f1_m: 0.9474 - val_precision_m: 0.9481 - val_recall_m: 0.9466\n",
      "Epoch 20/20\n",
      "160/160 [==============================] - 1s 5ms/step - loss: 0.1684 - accuracy: 0.9394 - f1_m: 0.9400 - precision_m: 0.9419 - recall_m: 0.9382 - val_loss: 0.1756 - val_accuracy: 0.9394 - val_f1_m: 0.9399 - val_precision_m: 0.9424 - val_recall_m: 0.9375\n"
     ]
    }
   ],
   "source": [
    "model = Sequential()\n",
    "\n",
    "model.add(Flatten())\n",
    "model.add(Dense(500))\n",
    "model.add(Activation(\"relu\"))\n",
    "\n",
    "model.add(Dense(200))\n",
    "model.add(Activation(\"relu\"))\n",
    "\n",
    "model.add(Dense(3))\n",
    "model.add(Activation(\"softmax\"))\n",
    "opt = Adam(lr=0.001)\n",
    "model.compile(loss=\"categorical_crossentropy\", optimizer=opt,\n",
    "\tmetrics=[\"accuracy\", f1_m,precision_m, recall_m])\n",
    "\n",
    "H = model.fit(x=aug.flow(train_data_np, train_labels_cat, batch_size=32),\n",
    "\tvalidation_data=(test_data_np, test_labels_cat), steps_per_epoch=len(train_labels) // 32,\n",
    "\tepochs=20, verbose=1)\n"
   ]
  },
  {
   "cell_type": "markdown",
   "metadata": {
    "id": "u35MaN5rpv8e"
   },
   "source": [
    "The higher the number of the epochs is, the more the parameters of the model will be adjusted, increasing the generalization ability of the model. No, training more than one epochs is not always required especially when we have a large training dataset. However, a very high number of epochs actually is counter productive since it decreases the ability of the model to generalize on the data, other than the ones in dataset thus, the model will be overfitted on the training data. The point in time in which, the traning loss continues to decrease while on the other hand, the validation loss starts to increase, overfitting occures. There are several ways to mitigate overfitting such as changing the compelxity of the model, using the dropouts and having a lower amount of epochs."
   ]
  },
  {
   "cell_type": "code",
   "execution_count": 167,
   "metadata": {
    "colab": {
     "base_uri": "https://localhost:8080/"
    },
    "id": "GFnN2cvVrnAT",
    "outputId": "4760a671-aa08-4380-da29-587234584a12"
   },
   "outputs": [
    {
     "name": "stdout",
     "output_type": "stream",
     "text": [
      "Epoch 1/20\n",
      "160/160 [==============================] - 2s 6ms/step - loss: 0.2331 - accuracy: 0.6251 - f1_m: 0.6220 - precision_m: 0.6220 - recall_m: 0.6220 - val_loss: 0.2241 - val_accuracy: 0.6638 - val_f1_m: 0.6608 - val_precision_m: 0.6608 - val_recall_m: 0.6608\n",
      "Epoch 2/20\n",
      "160/160 [==============================] - 1s 5ms/step - loss: 0.2296 - accuracy: 0.6556 - f1_m: 0.6558 - precision_m: 0.6558 - recall_m: 0.6558 - val_loss: 0.2241 - val_accuracy: 0.6638 - val_f1_m: 0.6608 - val_precision_m: 0.6608 - val_recall_m: 0.6608\n",
      "Epoch 3/20\n",
      "160/160 [==============================] - 1s 5ms/step - loss: 0.2184 - accuracy: 0.6723 - f1_m: 0.6724 - precision_m: 0.6724 - recall_m: 0.6724 - val_loss: 0.2241 - val_accuracy: 0.6638 - val_f1_m: 0.6608 - val_precision_m: 0.6608 - val_recall_m: 0.6608\n",
      "Epoch 4/20\n",
      "160/160 [==============================] - 1s 5ms/step - loss: 0.2260 - accuracy: 0.6611 - f1_m: 0.6613 - precision_m: 0.6613 - recall_m: 0.6613 - val_loss: 0.2241 - val_accuracy: 0.6638 - val_f1_m: 0.6608 - val_precision_m: 0.6608 - val_recall_m: 0.6608\n",
      "Epoch 5/20\n",
      "160/160 [==============================] - 1s 5ms/step - loss: 0.2253 - accuracy: 0.6620 - f1_m: 0.6622 - precision_m: 0.6622 - recall_m: 0.6622 - val_loss: 0.2241 - val_accuracy: 0.6638 - val_f1_m: 0.6608 - val_precision_m: 0.6608 - val_recall_m: 0.6608\n",
      "Epoch 6/20\n",
      "160/160 [==============================] - 1s 5ms/step - loss: 0.2224 - accuracy: 0.6663 - f1_m: 0.6663 - precision_m: 0.6663 - recall_m: 0.6663 - val_loss: 0.2241 - val_accuracy: 0.6638 - val_f1_m: 0.6608 - val_precision_m: 0.6608 - val_recall_m: 0.6608\n",
      "Epoch 7/20\n",
      "160/160 [==============================] - 1s 5ms/step - loss: 0.2314 - accuracy: 0.6530 - f1_m: 0.6529 - precision_m: 0.6529 - recall_m: 0.6529 - val_loss: 0.2241 - val_accuracy: 0.6638 - val_f1_m: 0.6608 - val_precision_m: 0.6608 - val_recall_m: 0.6608\n",
      "Epoch 8/20\n",
      "160/160 [==============================] - 1s 5ms/step - loss: 0.2228 - accuracy: 0.6657 - f1_m: 0.6658 - precision_m: 0.6658 - recall_m: 0.6658 - val_loss: 0.2241 - val_accuracy: 0.6638 - val_f1_m: 0.6608 - val_precision_m: 0.6608 - val_recall_m: 0.6608\n",
      "Epoch 9/20\n",
      "160/160 [==============================] - 1s 5ms/step - loss: 0.2193 - accuracy: 0.6711 - f1_m: 0.6712 - precision_m: 0.6712 - recall_m: 0.6712 - val_loss: 0.2241 - val_accuracy: 0.6638 - val_f1_m: 0.6608 - val_precision_m: 0.6608 - val_recall_m: 0.6608\n",
      "Epoch 10/20\n",
      "160/160 [==============================] - 1s 5ms/step - loss: 0.2187 - accuracy: 0.6719 - f1_m: 0.6723 - precision_m: 0.6723 - recall_m: 0.6723 - val_loss: 0.2241 - val_accuracy: 0.6638 - val_f1_m: 0.6608 - val_precision_m: 0.6608 - val_recall_m: 0.6608\n",
      "Epoch 11/20\n",
      "160/160 [==============================] - 1s 5ms/step - loss: 0.2217 - accuracy: 0.6675 - f1_m: 0.6675 - precision_m: 0.6675 - recall_m: 0.6675 - val_loss: 0.2241 - val_accuracy: 0.6638 - val_f1_m: 0.6608 - val_precision_m: 0.6608 - val_recall_m: 0.6608\n",
      "Epoch 12/20\n",
      "160/160 [==============================] - 1s 5ms/step - loss: 0.2231 - accuracy: 0.6653 - f1_m: 0.6653 - precision_m: 0.6653 - recall_m: 0.6653 - val_loss: 0.2241 - val_accuracy: 0.6638 - val_f1_m: 0.6608 - val_precision_m: 0.6608 - val_recall_m: 0.6608\n",
      "Epoch 13/20\n",
      "160/160 [==============================] - 1s 5ms/step - loss: 0.2256 - accuracy: 0.6615 - f1_m: 0.6616 - precision_m: 0.6616 - recall_m: 0.6616 - val_loss: 0.2241 - val_accuracy: 0.6638 - val_f1_m: 0.6608 - val_precision_m: 0.6608 - val_recall_m: 0.6608\n",
      "Epoch 14/20\n",
      "160/160 [==============================] - 1s 5ms/step - loss: 0.2238 - accuracy: 0.6643 - f1_m: 0.6643 - precision_m: 0.6643 - recall_m: 0.6643 - val_loss: 0.2241 - val_accuracy: 0.6638 - val_f1_m: 0.6608 - val_precision_m: 0.6608 - val_recall_m: 0.6608\n",
      "Epoch 15/20\n",
      "160/160 [==============================] - 1s 6ms/step - loss: 0.2223 - accuracy: 0.6665 - f1_m: 0.6663 - precision_m: 0.6663 - recall_m: 0.6663 - val_loss: 0.2241 - val_accuracy: 0.6638 - val_f1_m: 0.6608 - val_precision_m: 0.6608 - val_recall_m: 0.6608\n",
      "Epoch 16/20\n",
      "160/160 [==============================] - 1s 5ms/step - loss: 0.2176 - accuracy: 0.6736 - f1_m: 0.6737 - precision_m: 0.6737 - recall_m: 0.6737 - val_loss: 0.2241 - val_accuracy: 0.6638 - val_f1_m: 0.6608 - val_precision_m: 0.6608 - val_recall_m: 0.6608\n",
      "Epoch 17/20\n",
      "160/160 [==============================] - 1s 5ms/step - loss: 0.2248 - accuracy: 0.6628 - f1_m: 0.6629 - precision_m: 0.6629 - recall_m: 0.6629 - val_loss: 0.2241 - val_accuracy: 0.6638 - val_f1_m: 0.6608 - val_precision_m: 0.6608 - val_recall_m: 0.6608\n",
      "Epoch 18/20\n",
      "160/160 [==============================] - 1s 5ms/step - loss: 0.2302 - accuracy: 0.6546 - f1_m: 0.6546 - precision_m: 0.6546 - recall_m: 0.6546 - val_loss: 0.2241 - val_accuracy: 0.6638 - val_f1_m: 0.6608 - val_precision_m: 0.6608 - val_recall_m: 0.6608\n",
      "Epoch 19/20\n",
      "160/160 [==============================] - 1s 5ms/step - loss: 0.2242 - accuracy: 0.6637 - f1_m: 0.6638 - precision_m: 0.6638 - recall_m: 0.6638 - val_loss: 0.2241 - val_accuracy: 0.6638 - val_f1_m: 0.6608 - val_precision_m: 0.6608 - val_recall_m: 0.6608\n",
      "Epoch 20/20\n",
      "160/160 [==============================] - 1s 5ms/step - loss: 0.2283 - accuracy: 0.6575 - f1_m: 0.6575 - precision_m: 0.6575 - recall_m: 0.6575 - val_loss: 0.2241 - val_accuracy: 0.6638 - val_f1_m: 0.6608 - val_precision_m: 0.6608 - val_recall_m: 0.6608\n"
     ]
    }
   ],
   "source": [
    "model = Sequential()\n",
    "\n",
    "model.add(Flatten())\n",
    "model.add(Dense(500))\n",
    "model.add(Activation(\"relu\"))\n",
    "\n",
    "model.add(Dense(200))\n",
    "model.add(Activation(\"relu\"))\n",
    "\n",
    "model.add(Dense(3))\n",
    "model.add(Activation(\"softmax\"))\n",
    "opt = Adam(lr=0.001)\n",
    "model.compile(loss=\"mse\", optimizer=opt,\n",
    "\tmetrics=[\"accuracy\", f1_m,precision_m, recall_m])\n",
    "\n",
    "H = model.fit(x=aug.flow(train_data_np, train_labels_cat, batch_size=32),\n",
    "\tvalidation_data=(test_data_np, test_labels_cat), steps_per_epoch=len(train_labels) // 32,\n",
    "\tepochs=20, verbose=1)\n"
   ]
  },
  {
   "cell_type": "markdown",
   "metadata": {
    "id": "Ebh3IF_PuWwv"
   },
   "source": [
    "The MSE function assumes that our data are generated from a bell-shaped distribution like normal, however, in classification, the underlying distribution is bernoli. The second reason that the mse function does not produce a satisfactory result is that the mse function is non-convex for classification problems. Therefore, there is no guarantee of the covnergence. This is because the MSE function expects inputs from -inf to inf while in classification, outputs are probablilities in 0-1 range. We can use MSE in other types of machine learning problems such as regression."
   ]
  },
  {
   "cell_type": "code",
   "execution_count": 168,
   "metadata": {
    "colab": {
     "base_uri": "https://localhost:8080/"
    },
    "id": "ul1qkdOdvcE3",
    "outputId": "d155c7be-3d78-49ef-bceb-d8f485469006"
   },
   "outputs": [
    {
     "name": "stdout",
     "output_type": "stream",
     "text": [
      "Epoch 1/20\n",
      "160/160 [==============================] - 2s 8ms/step - loss: 2.9420 - accuracy: 0.7180 - f1_m: 0.7016 - precision_m: 0.7215 - recall_m: 0.6967 - val_loss: 0.6127 - val_accuracy: 0.9030 - val_f1_m: 0.9052 - val_precision_m: 0.9080 - val_recall_m: 0.9024\n",
      "Epoch 2/20\n",
      "160/160 [==============================] - 1s 6ms/step - loss: 0.7279 - accuracy: 0.8717 - f1_m: 0.8711 - precision_m: 0.8760 - recall_m: 0.8665 - val_loss: 0.5477 - val_accuracy: 0.9317 - val_f1_m: 0.9328 - val_precision_m: 0.9342 - val_recall_m: 0.9314\n",
      "Epoch 3/20\n",
      "160/160 [==============================] - 1s 6ms/step - loss: 0.5701 - accuracy: 0.9006 - f1_m: 0.9007 - precision_m: 0.9039 - recall_m: 0.8975 - val_loss: 0.5195 - val_accuracy: 0.9278 - val_f1_m: 0.9292 - val_precision_m: 0.9356 - val_recall_m: 0.9230\n",
      "Epoch 4/20\n",
      "160/160 [==============================] - 1s 6ms/step - loss: 0.5916 - accuracy: 0.9064 - f1_m: 0.9049 - precision_m: 0.9084 - recall_m: 0.9015 - val_loss: 0.4918 - val_accuracy: 0.9270 - val_f1_m: 0.9273 - val_precision_m: 0.9295 - val_recall_m: 0.9253\n",
      "Epoch 5/20\n",
      "160/160 [==============================] - 1s 6ms/step - loss: 0.5739 - accuracy: 0.9045 - f1_m: 0.9041 - precision_m: 0.9080 - recall_m: 0.9004 - val_loss: 0.6069 - val_accuracy: 0.9449 - val_f1_m: 0.9465 - val_precision_m: 0.9480 - val_recall_m: 0.9451\n",
      "Epoch 6/20\n",
      "160/160 [==============================] - 1s 6ms/step - loss: 0.6521 - accuracy: 0.8958 - f1_m: 0.8960 - precision_m: 0.8990 - recall_m: 0.8932 - val_loss: 0.5297 - val_accuracy: 0.9433 - val_f1_m: 0.9440 - val_precision_m: 0.9483 - val_recall_m: 0.9398\n",
      "Epoch 7/20\n",
      "160/160 [==============================] - 1s 6ms/step - loss: 0.6268 - accuracy: 0.9077 - f1_m: 0.9072 - precision_m: 0.9107 - recall_m: 0.9039 - val_loss: 0.4184 - val_accuracy: 0.9441 - val_f1_m: 0.9461 - val_precision_m: 0.9486 - val_recall_m: 0.9436\n",
      "Epoch 8/20\n",
      "160/160 [==============================] - 1s 6ms/step - loss: 0.4950 - accuracy: 0.9228 - f1_m: 0.9225 - precision_m: 0.9256 - recall_m: 0.9194 - val_loss: 0.6658 - val_accuracy: 0.8727 - val_f1_m: 0.8711 - val_precision_m: 0.8742 - val_recall_m: 0.8681\n",
      "Epoch 9/20\n",
      "160/160 [==============================] - 1s 6ms/step - loss: 0.5665 - accuracy: 0.9170 - f1_m: 0.9170 - precision_m: 0.9197 - recall_m: 0.9144 - val_loss: 0.5960 - val_accuracy: 0.9200 - val_f1_m: 0.9207 - val_precision_m: 0.9214 - val_recall_m: 0.9200\n",
      "Epoch 10/20\n",
      "160/160 [==============================] - 1s 6ms/step - loss: 0.4764 - accuracy: 0.9344 - f1_m: 0.9340 - precision_m: 0.9362 - recall_m: 0.9319 - val_loss: 0.4240 - val_accuracy: 0.9332 - val_f1_m: 0.9339 - val_precision_m: 0.9364 - val_recall_m: 0.9314\n",
      "Epoch 11/20\n",
      "160/160 [==============================] - 1s 6ms/step - loss: 0.4321 - accuracy: 0.9368 - f1_m: 0.9367 - precision_m: 0.9380 - recall_m: 0.9354 - val_loss: 0.5196 - val_accuracy: 0.9262 - val_f1_m: 0.9281 - val_precision_m: 0.9302 - val_recall_m: 0.9261\n",
      "Epoch 12/20\n",
      "160/160 [==============================] - 1s 6ms/step - loss: 0.4153 - accuracy: 0.9452 - f1_m: 0.9460 - precision_m: 0.9478 - recall_m: 0.9443 - val_loss: 0.4714 - val_accuracy: 0.9503 - val_f1_m: 0.9511 - val_precision_m: 0.9526 - val_recall_m: 0.9497\n",
      "Epoch 13/20\n",
      "160/160 [==============================] - 1s 6ms/step - loss: 0.5632 - accuracy: 0.9206 - f1_m: 0.9203 - precision_m: 0.9220 - recall_m: 0.9186 - val_loss: 0.3616 - val_accuracy: 0.9464 - val_f1_m: 0.9477 - val_precision_m: 0.9495 - val_recall_m: 0.9459\n",
      "Epoch 14/20\n",
      "160/160 [==============================] - 1s 6ms/step - loss: 0.4314 - accuracy: 0.9358 - f1_m: 0.9347 - precision_m: 0.9375 - recall_m: 0.9320 - val_loss: 0.3867 - val_accuracy: 0.9441 - val_f1_m: 0.9456 - val_precision_m: 0.9500 - val_recall_m: 0.9413\n",
      "Epoch 15/20\n",
      "160/160 [==============================] - 1s 6ms/step - loss: 0.3923 - accuracy: 0.9446 - f1_m: 0.9448 - precision_m: 0.9460 - recall_m: 0.9437 - val_loss: 0.3948 - val_accuracy: 0.9488 - val_f1_m: 0.9508 - val_precision_m: 0.9519 - val_recall_m: 0.9497\n",
      "Epoch 16/20\n",
      "160/160 [==============================] - 1s 6ms/step - loss: 0.4125 - accuracy: 0.9400 - f1_m: 0.9395 - precision_m: 0.9407 - recall_m: 0.9384 - val_loss: 0.4890 - val_accuracy: 0.9348 - val_f1_m: 0.9359 - val_precision_m: 0.9373 - val_recall_m: 0.9345\n",
      "Epoch 17/20\n",
      "160/160 [==============================] - 1s 6ms/step - loss: 0.3872 - accuracy: 0.9477 - f1_m: 0.9482 - precision_m: 0.9498 - recall_m: 0.9466 - val_loss: 0.4899 - val_accuracy: 0.9363 - val_f1_m: 0.9367 - val_precision_m: 0.9374 - val_recall_m: 0.9360\n",
      "Epoch 18/20\n",
      "160/160 [==============================] - 1s 6ms/step - loss: 0.5704 - accuracy: 0.9168 - f1_m: 0.9175 - precision_m: 0.9194 - recall_m: 0.9156 - val_loss: 0.4411 - val_accuracy: 0.9115 - val_f1_m: 0.9123 - val_precision_m: 0.9162 - val_recall_m: 0.9085\n",
      "Epoch 19/20\n",
      "160/160 [==============================] - 1s 6ms/step - loss: 0.4206 - accuracy: 0.9424 - f1_m: 0.9430 - precision_m: 0.9449 - recall_m: 0.9412 - val_loss: 0.4078 - val_accuracy: 0.9270 - val_f1_m: 0.9291 - val_precision_m: 0.9298 - val_recall_m: 0.9284\n",
      "Epoch 20/20\n",
      "160/160 [==============================] - 1s 6ms/step - loss: 0.4137 - accuracy: 0.9365 - f1_m: 0.9372 - precision_m: 0.9403 - recall_m: 0.9342 - val_loss: 0.3787 - val_accuracy: 0.9441 - val_f1_m: 0.9458 - val_precision_m: 0.9465 - val_recall_m: 0.9451\n"
     ]
    }
   ],
   "source": [
    "\n",
    "model = Sequential()\n",
    "\n",
    "model.add(Flatten())\n",
    "model.add(Dense(500, kernel_regularizer=regularizers.l2(1e-4), bias_regularizer=regularizers.l2(1e-4), activity_regularizer=regularizers.l2(1e-4)))\n",
    "model.add(Activation(\"relu\"))\n",
    "\n",
    "model.add(Dense(200, kernel_regularizer=regularizers.l2(1e-4), bias_regularizer=regularizers.l2(1e-4), activity_regularizer=regularizers.l2(1e-4)))\n",
    "model.add(Activation(\"relu\"))\n",
    "\n",
    "model.add(Dense(3, kernel_regularizer=regularizers.l2(1e-4), bias_regularizer=regularizers.l2(1e-4), activity_regularizer=regularizers.l2(1e-4)))\n",
    "model.add(Activation(\"softmax\"))\n",
    "\n",
    "opt = Adam(lr=0.001)\n",
    "model.compile(loss=\"categorical_crossentropy\", optimizer=opt,\n",
    "metrics=[\"accuracy\", f1_m,precision_m, recall_m])\n",
    "\n",
    "H = model.fit(x=aug.flow(train_data_np, train_labels_cat, batch_size=32),\n",
    " validation_data=(test_data_np, test_labels_cat), steps_per_epoch=len(train_labels) // 32, \n",
    " epochs=20, verbose=1)\n"
   ]
  },
  {
   "cell_type": "code",
   "execution_count": 169,
   "metadata": {
    "colab": {
     "base_uri": "https://localhost:8080/"
    },
    "id": "rP0dDfZWyTpQ",
    "outputId": "aae97d66-9a7e-47c8-d930-55d7d3461195"
   },
   "outputs": [
    {
     "name": "stdout",
     "output_type": "stream",
     "text": [
      "Epoch 1/20\n",
      "160/160 [==============================] - 2s 8ms/step - loss: 2.5449 - accuracy: 0.6881 - f1_m: 0.6825 - precision_m: 0.6915 - recall_m: 0.6764 - val_loss: 0.9790 - val_accuracy: 0.8121 - val_f1_m: 0.8112 - val_precision_m: 0.8137 - val_recall_m: 0.8087\n",
      "Epoch 2/20\n",
      "160/160 [==============================] - 1s 6ms/step - loss: 0.7928 - accuracy: 0.8574 - f1_m: 0.8557 - precision_m: 0.8612 - recall_m: 0.8505 - val_loss: 0.6871 - val_accuracy: 0.8921 - val_f1_m: 0.8944 - val_precision_m: 0.8972 - val_recall_m: 0.8918\n",
      "Epoch 3/20\n",
      "160/160 [==============================] - 1s 6ms/step - loss: 0.7243 - accuracy: 0.8775 - f1_m: 0.8770 - precision_m: 0.8800 - recall_m: 0.8741 - val_loss: 0.5147 - val_accuracy: 0.9348 - val_f1_m: 0.9350 - val_precision_m: 0.9379 - val_recall_m: 0.9322\n",
      "Epoch 4/20\n",
      "160/160 [==============================] - 1s 6ms/step - loss: 0.6098 - accuracy: 0.8977 - f1_m: 0.8973 - precision_m: 0.9010 - recall_m: 0.8938 - val_loss: 0.6181 - val_accuracy: 0.8929 - val_f1_m: 0.8953 - val_precision_m: 0.8998 - val_recall_m: 0.8910\n",
      "Epoch 5/20\n",
      "160/160 [==============================] - 1s 6ms/step - loss: 0.7491 - accuracy: 0.8835 - f1_m: 0.8841 - precision_m: 0.8876 - recall_m: 0.8807 - val_loss: 0.5756 - val_accuracy: 0.8975 - val_f1_m: 0.8977 - val_precision_m: 0.9022 - val_recall_m: 0.8933\n",
      "Epoch 6/20\n",
      "160/160 [==============================] - 1s 6ms/step - loss: 0.6243 - accuracy: 0.9096 - f1_m: 0.9088 - precision_m: 0.9117 - recall_m: 0.9060 - val_loss: 0.4806 - val_accuracy: 0.9216 - val_f1_m: 0.9218 - val_precision_m: 0.9236 - val_recall_m: 0.9200\n",
      "Epoch 7/20\n",
      "160/160 [==============================] - 1s 6ms/step - loss: 0.5161 - accuracy: 0.9195 - f1_m: 0.9194 - precision_m: 0.9224 - recall_m: 0.9165 - val_loss: 0.6723 - val_accuracy: 0.8898 - val_f1_m: 0.8921 - val_precision_m: 0.8956 - val_recall_m: 0.8887\n",
      "Epoch 8/20\n",
      "160/160 [==============================] - 1s 7ms/step - loss: 0.6260 - accuracy: 0.9007 - f1_m: 0.9018 - precision_m: 0.9049 - recall_m: 0.8988 - val_loss: 0.9357 - val_accuracy: 0.8998 - val_f1_m: 0.9011 - val_precision_m: 0.9028 - val_recall_m: 0.8994\n",
      "Epoch 9/20\n",
      "160/160 [==============================] - 1s 6ms/step - loss: 0.5901 - accuracy: 0.9161 - f1_m: 0.9159 - precision_m: 0.9194 - recall_m: 0.9125 - val_loss: 0.3955 - val_accuracy: 0.9519 - val_f1_m: 0.9526 - val_precision_m: 0.9548 - val_recall_m: 0.9505\n",
      "Epoch 10/20\n",
      "160/160 [==============================] - 1s 6ms/step - loss: 0.5026 - accuracy: 0.9184 - f1_m: 0.9180 - precision_m: 0.9212 - recall_m: 0.9149 - val_loss: 0.6787 - val_accuracy: 0.8820 - val_f1_m: 0.8818 - val_precision_m: 0.8825 - val_recall_m: 0.8811\n",
      "Epoch 11/20\n",
      "160/160 [==============================] - 1s 6ms/step - loss: 0.5444 - accuracy: 0.9201 - f1_m: 0.9195 - precision_m: 0.9225 - recall_m: 0.9165 - val_loss: 0.4991 - val_accuracy: 0.9193 - val_f1_m: 0.9201 - val_precision_m: 0.9219 - val_recall_m: 0.9184\n",
      "Epoch 12/20\n",
      "160/160 [==============================] - 1s 6ms/step - loss: 0.5131 - accuracy: 0.9266 - f1_m: 0.9255 - precision_m: 0.9283 - recall_m: 0.9227 - val_loss: 0.4893 - val_accuracy: 0.9231 - val_f1_m: 0.9247 - val_precision_m: 0.9265 - val_recall_m: 0.9230\n",
      "Epoch 13/20\n",
      "160/160 [==============================] - 1s 6ms/step - loss: 0.4596 - accuracy: 0.9311 - f1_m: 0.9309 - precision_m: 0.9333 - recall_m: 0.9286 - val_loss: 0.5189 - val_accuracy: 0.9099 - val_f1_m: 0.9096 - val_precision_m: 0.9132 - val_recall_m: 0.9062\n",
      "Epoch 14/20\n",
      "160/160 [==============================] - 1s 6ms/step - loss: 0.4451 - accuracy: 0.9354 - f1_m: 0.9362 - precision_m: 0.9402 - recall_m: 0.9324 - val_loss: 0.3419 - val_accuracy: 0.9526 - val_f1_m: 0.9535 - val_precision_m: 0.9543 - val_recall_m: 0.9527\n",
      "Epoch 15/20\n",
      "160/160 [==============================] - 1s 6ms/step - loss: 0.4638 - accuracy: 0.9305 - f1_m: 0.9301 - precision_m: 0.9335 - recall_m: 0.9268 - val_loss: 0.5295 - val_accuracy: 0.9402 - val_f1_m: 0.9413 - val_precision_m: 0.9413 - val_recall_m: 0.9413\n",
      "Epoch 16/20\n",
      "160/160 [==============================] - 1s 6ms/step - loss: 0.4787 - accuracy: 0.9355 - f1_m: 0.9354 - precision_m: 0.9385 - recall_m: 0.9325 - val_loss: 0.4270 - val_accuracy: 0.9363 - val_f1_m: 0.9376 - val_precision_m: 0.9402 - val_recall_m: 0.9352\n",
      "Epoch 17/20\n",
      "160/160 [==============================] - 1s 6ms/step - loss: 0.4686 - accuracy: 0.9302 - f1_m: 0.9294 - precision_m: 0.9317 - recall_m: 0.9271 - val_loss: 0.4469 - val_accuracy: 0.9519 - val_f1_m: 0.9486 - val_precision_m: 0.9538 - val_recall_m: 0.9436\n",
      "Epoch 18/20\n",
      "160/160 [==============================] - 1s 6ms/step - loss: 0.4148 - accuracy: 0.9391 - f1_m: 0.9389 - precision_m: 0.9409 - recall_m: 0.9369 - val_loss: 0.3525 - val_accuracy: 0.9449 - val_f1_m: 0.9466 - val_precision_m: 0.9481 - val_recall_m: 0.9451\n",
      "Epoch 19/20\n",
      "160/160 [==============================] - 1s 6ms/step - loss: 0.4563 - accuracy: 0.9374 - f1_m: 0.9367 - precision_m: 0.9384 - recall_m: 0.9350 - val_loss: 0.5044 - val_accuracy: 0.9255 - val_f1_m: 0.9256 - val_precision_m: 0.9299 - val_recall_m: 0.9215\n",
      "Epoch 20/20\n",
      "160/160 [==============================] - 1s 6ms/step - loss: 0.5017 - accuracy: 0.9348 - f1_m: 0.9342 - precision_m: 0.9365 - recall_m: 0.9321 - val_loss: 0.4145 - val_accuracy: 0.9356 - val_f1_m: 0.9367 - val_precision_m: 0.9413 - val_recall_m: 0.9322\n"
     ]
    }
   ],
   "source": [
    "model = Sequential()\n",
    "\n",
    "model.add(Flatten())\n",
    "model.add(Dense(500, kernel_regularizer=regularizers.l2(1e-4), bias_regularizer=regularizers.l2(1e-4), activity_regularizer=regularizers.l2(1e-4)))\n",
    "model.add(Activation(\"relu\"))\n",
    "model.add(Dropout(0.1))\n",
    "model.add(Dense(200, kernel_regularizer=regularizers.l2(1e-4), bias_regularizer=regularizers.l2(1e-4), activity_regularizer=regularizers.l2(1e-4)))\n",
    "model.add(Activation(\"relu\"))\n",
    "\n",
    "model.add(Dense(3, kernel_regularizer=regularizers.l2(1e-4), bias_regularizer=regularizers.l2(1e-4), activity_regularizer=regularizers.l2(1e-4)))\n",
    "model.add(Activation(\"softmax\"))\n",
    "\n",
    "opt = Adam(lr=0.001)\n",
    "model.compile(loss=\"categorical_crossentropy\", optimizer=opt,\n",
    "metrics=[\"accuracy\", f1_m,precision_m, recall_m])\n",
    "\n",
    "H = model.fit(x=aug.flow(train_data_np, train_labels_cat, batch_size=32),\n",
    " validation_data=(test_data_np, test_labels_cat), steps_per_epoch=len(train_labels) // 32, \n",
    " epochs=20, verbose=1)\n"
   ]
  },
  {
   "cell_type": "markdown",
   "metadata": {
    "id": "eop7kP2tyFuU"
   },
   "source": [
    "It results in better validation accurace and f1-score since regularization methods prevent the weight, becomming to big therefore the model can better generalize."
   ]
  }
 ],
 "metadata": {
  "accelerator": "GPU",
  "colab": {
   "collapsed_sections": [],
   "name": "asg5-2.ipynb",
   "provenance": [],
   "toc_visible": true
  },
  "kernelspec": {
   "display_name": "Python 3",
   "language": "python",
   "name": "python3"
  },
  "language_info": {
   "codemirror_mode": {
    "name": "ipython",
    "version": 3
   },
   "file_extension": ".py",
   "mimetype": "text/x-python",
   "name": "python",
   "nbconvert_exporter": "python",
   "pygments_lexer": "ipython3",
   "version": "3.8.3"
  }
 },
 "nbformat": 4,
 "nbformat_minor": 1
}
